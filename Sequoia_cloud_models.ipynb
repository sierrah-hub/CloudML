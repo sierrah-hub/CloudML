{
  "nbformat": 4,
  "nbformat_minor": 0,
  "metadata": {
    "colab": {
      "name": "Copy of sequoia_cloud_models.ipynb",
      "provenance": [],
      "collapsed_sections": []
    },
    "kernelspec": {
      "name": "python3",
      "display_name": "Python 3"
    },
    "language_info": {
      "name": "python"
    },
    "accelerator": "GPU"
  },
  "cells": [
    {
      "cell_type": "markdown",
      "metadata": {
        "id": "tRBNDY08Nn9L"
      },
      "source": [
        "This is the dataset currently loaded:\n",
        "\n",
        "1. [Sparcs Dataset ~2GB](https://www.usgs.gov/core-science-systems/nli/landsat/spatial-procedures-automated-removal-cloud-and-shadow-sparcs)\n",
        "  1. satellite tiff file (format w/ multiple channels, i.e. infrared as well as RGB)\n",
        "  2. txt metadata about the image\n",
        "  3. a satellite image png\n",
        "  4. a satellite mask png (with colors representing masks)\n",
        "\n",
        "These are some other options we have:\n",
        "\n",
        "1. [Landsat Validation Data ~100GB](https://www.usgs.gov/core-science-systems/nli/landsat/landsat-8-cloud-cover-assessment-validation-data?qt-science_support_page_related_con=1#qt-science_support_page_related_con)\n",
        "\n",
        "2. [Kaggle Dataset ~20GB](https://www.kaggle.com/sorour/95cloud-cloud-segmentation-on-satellite-images)"
      ]
    },
    {
      "cell_type": "code",
      "metadata": {
        "id": "m3YcRyg-4ZeT"
      },
      "source": [
        "from pydrive.auth import GoogleAuth\n",
        "from pydrive.drive import GoogleDrive\n",
        "from google.colab import auth\n",
        "from oauth2client.client import GoogleCredentials\n",
        "\n",
        "auth.authenticate_user()\n",
        "gauth = GoogleAuth()\n",
        "gauth.credentials = GoogleCredentials.get_application_default()\n",
        "drive = GoogleDrive(gauth)\n",
        "\n",
        "file_id = '15_GVb8BRHpDYKMwBmPlF7KaklBBJIKO-'\n",
        "downloaded = drive.CreateFile({'id': file_id})\n",
        "downloaded.GetContentFile('clouds.zip')\n",
        "\n",
        "!unzip -q clouds.zip -d /content/\n",
        "dataset_path = '/content/gdrive/MyDrive/sequoia/clouds'"
      ],
      "execution_count": null,
      "outputs": []
    },
    {
      "cell_type": "code",
      "metadata": {
        "id": "mhNeBSAF8GWL"
      },
      "source": [
        "import tensorflow as tf\n",
        "import tensorflow_datasets as tfds\n",
        "from tensorflow.keras import Sequential, layers, preprocessing \n",
        "\n",
        "import matplotlib.pyplot as plt\n",
        "import numpy as np\n",
        "\n",
        "from PIL import Image\n",
        "\n",
        "# convenience key-word args to parallel process\n",
        "parallel_map_kwargs = dict(\n",
        "  num_parallel_calls=tf.data.AUTOTUNE,\n",
        "  deterministic=False)"
      ],
      "execution_count": null,
      "outputs": []
    },
    {
      "cell_type": "code",
      "metadata": {
        "id": "Og1fJ6-u94ke"
      },
      "source": [
        "# #### DOWNLOAD THE SPARCS DATASET ####\n",
        "# def download(data_url):\n",
        "#   dl_manager = tfds.download.DownloadManager(download_dir='junk', extract_dir='/content/clouds')\n",
        "#   dataset_path = dl_manager.download_and_extract(data_url)\n",
        "#   return dataset_path\n",
        "\n",
        "# # creates a dataset consisting of image file paths\n",
        "# SPARCS_DATA_URL = 'https://landsat.usgs.gov/cloud-validation/sparcs/l8cloudmasks.zip'\n",
        "# dataset_path = download(SPARCS_DATA_URL) + \"/sending\""
      ],
      "execution_count": null,
      "outputs": []
    },
    {
      "cell_type": "code",
      "metadata": {
        "id": "Nc3OLjwQYJx1"
      },
      "source": [
        "#### READ IMAGE & MASK TO DATASET ####\n",
        "def read_img_and_mask(img_path: tf.Tensor):\n",
        "    # read img at specified path\n",
        "    img = tf.io.read_file(img_path)\n",
        "    img = tf.image.decode_png(img)\n",
        "\n",
        "    # read corresponding mask (whose path replaces 'photo' w/ 'mask')\n",
        "    mask_path = tf.strings.regex_replace(img_path, \"photo\", \"mask\")\n",
        "    mask = tf.io.read_file(mask_path)\n",
        "    mask = tf.image.decode_png(mask, channels=1)\n",
        "    \n",
        "    # tuple of img and mask\n",
        "    return img, mask"
      ],
      "execution_count": null,
      "outputs": []
    },
    {
      "cell_type": "code",
      "metadata": {
        "id": "pZL1HTs2Rjfd"
      },
      "source": [
        "ds = tf.data.Dataset.list_files(dataset_path + '/*photo.png')\n",
        "# read in each image and its mask using those file paths \n",
        "\n",
        "ds = ds.map(read_img_and_mask, **parallel_map_kwargs)\n",
        "\n",
        "# size of dataset\n",
        "CARDINALITY = ds.cardinality()"
      ],
      "execution_count": null,
      "outputs": []
    },
    {
      "cell_type": "code",
      "metadata": {
        "id": "OFL3wo9zN6bD"
      },
      "source": [
        "# take n random crops of an image and its mask\n",
        "@tf.function\n",
        "def sample_crop(img, mask, w, h, n):\n",
        "  img_and_mask = tf.experimental.numpy.dstack((img, mask))\n",
        "  crops = [tf.image.random_crop(img_and_mask, (w, h, 4)) for i in range(n)]\n",
        "  crops = tf.stack(crops)\n",
        "  crops = tf.data.Dataset.from_tensor_slices(crops)\n",
        "  return crops"
      ],
      "execution_count": null,
      "outputs": []
    },
    {
      "cell_type": "code",
      "metadata": {
        "id": "B3QX2p1tZ287"
      },
      "source": [
        "# randomly crop each img (and its mask) several times\n",
        "n, w, h = 5, 128, 128\n",
        "ds = ds.interleave(lambda img, mask: sample_crop(img, mask, w, h, n), **parallel_map_kwargs)\n",
        "\n",
        "# tf doesn't know cardinality after interleave, so we help it out\n",
        "CARDINALITY *= n\n",
        "ds = ds.apply(tf.data.experimental.assert_cardinality(CARDINALITY))"
      ],
      "execution_count": null,
      "outputs": []
    },
    {
      "cell_type": "code",
      "metadata": {
        "id": "A2K983q_pLXR"
      },
      "source": [
        "# represent as tuple of img, mask rather than mask stacked beneath image\n",
        "ds = ds.map(lambda x: (x[:, :, 0:3], x[:, :, 3]), **parallel_map_kwargs)"
      ],
      "execution_count": null,
      "outputs": []
    },
    {
      "cell_type": "code",
      "metadata": {
        "id": "B2cGpL3dwKI2"
      },
      "source": [
        "@tf.function\n",
        "def cloud_score(img, mask):  \n",
        "  # cloud mask is 5\n",
        "  clouds = tf.math.count_nonzero(mask == 255)\n",
        "  cloud_score = clouds / tf.size(mask, out_type=tf.int64)\n",
        "  return img, cloud_score\n",
        "\n",
        "ds = ds.map(cloud_score, **parallel_map_kwargs)"
      ],
      "execution_count": null,
      "outputs": []
    },
    {
      "cell_type": "code",
      "metadata": {
        "id": "VOqZRQZRqvnb"
      },
      "source": [
        "# random shuffle\n",
        "ds = ds.shuffle(buffer_size=CARDINALITY)\n",
        "\n",
        "train_ds_size = int(3 * CARDINALITY // 5) # 60\n",
        "valid_ds_size = int(CARDINALITY // 5) # 20\n",
        "\n",
        "train_ds = ds.take(train_ds_size)\n",
        "remaining = ds.skip(train_ds_size)  \n",
        "valid_ds = remaining.take(valid_ds_size)\n",
        "test_ds = remaining.skip(valid_ds_size)\n",
        "\n",
        "train_ds = train_ds.batch(256).prefetch(tf.data.AUTOTUNE)\n",
        "test_ds = test_ds.batch(256).prefetch(tf.data.AUTOTUNE)\n",
        "valid_ds = valid_ds.batch(256).prefetch(tf.data.AUTOTUNE)"
      ],
      "execution_count": null,
      "outputs": []
    },
    {
      "cell_type": "code",
      "metadata": {
        "id": "wBbAAQBQpVNx"
      },
      "source": [
        "num_classes = 1\n",
        "\n",
        "model = Sequential([\n",
        "  layers.experimental.preprocessing.Rescaling(1./255, input_shape=(h, w, 3)),\n",
        "  layers.Conv2D(16, 3, padding='same', activation='relu'),\n",
        "  layers.MaxPooling2D(),\n",
        "  layers.Conv2D(32, 3, padding='same', activation='relu'),\n",
        "  layers.MaxPooling2D(),\n",
        "  layers.Conv2D(64, 3, padding='same', activation='relu'),\n",
        "  layers.MaxPooling2D(),\n",
        "  layers.Conv2D(128, 3, padding='same', activation='relu'),\n",
        "  layers.MaxPooling2D(),\n",
        "  layers.Conv2D(256, 3, padding='same', activation='relu'),\n",
        "  layers.MaxPooling2D(),\n",
        "  layers.Flatten(),\n",
        "  layers.Dense(64, activation='relu'),\n",
        "  layers.Dense(num_classes)\n",
        "])\n",
        "\n",
        "model.summary()"
      ],
      "execution_count": null,
      "outputs": []
    },
    {
      "cell_type": "code",
      "metadata": {
        "id": "jZmrkOGSqGNM"
      },
      "source": [
        "model.compile(optimizer='adam',\n",
        "              loss=tf.keras.losses.MeanSquaredError())"
      ],
      "execution_count": null,
      "outputs": []
    },
    {
      "cell_type": "code",
      "metadata": {
        "id": "UI7H8LH-BDKZ"
      },
      "source": [
        "callback = tf.keras.callbacks.EarlyStopping(\n",
        "    restore_best_weights=True,\n",
        "    patience=5\n",
        ")"
      ],
      "execution_count": null,
      "outputs": []
    },
    {
      "cell_type": "code",
      "metadata": {
        "id": "Qpo_eFmCqJdT",
        "colab": {
          "base_uri": "https://localhost:8080/"
        },
        "outputId": "540bf2e9-5cc0-458e-b07f-f43e7d41cd92"
      },
      "source": [
        "history = model.fit(\n",
        "  train_ds,\n",
        "  validation_data=valid_ds,\n",
        "  epochs=15,\n",
        "  callbacks=[callback]\n",
        ")"
      ],
      "execution_count": null,
      "outputs": [
        {
          "output_type": "stream",
          "text": [
            "Epoch 1/15\n",
            "1/1 [==============================] - 7s 7s/step - loss: 0.1438 - val_loss: 0.0758\n",
            "Epoch 2/15\n",
            "1/1 [==============================] - 6s 6s/step - loss: 0.0932 - val_loss: 0.0579\n",
            "Epoch 3/15\n",
            "1/1 [==============================] - 6s 6s/step - loss: 0.0911 - val_loss: 0.0729\n",
            "Epoch 4/15\n",
            "1/1 [==============================] - 6s 6s/step - loss: 0.0796 - val_loss: 0.0734\n",
            "Epoch 5/15\n",
            "1/1 [==============================] - 6s 6s/step - loss: 0.0834 - val_loss: 0.0571\n",
            "Epoch 6/15\n",
            "1/1 [==============================] - 6s 6s/step - loss: 0.0661 - val_loss: 0.0833\n",
            "Epoch 7/15\n",
            "1/1 [==============================] - 6s 6s/step - loss: 0.0733 - val_loss: 0.0683\n",
            "Epoch 8/15\n",
            "1/1 [==============================] - 6s 6s/step - loss: 0.0748 - val_loss: 0.1056\n"
          ],
          "name": "stdout"
        }
      ]
    },
    {
      "cell_type": "code",
      "metadata": {
        "colab": {
          "base_uri": "https://localhost:8080/"
        },
        "id": "M2FnFATlH5Az",
        "outputId": "cbf51c0c-90b8-4f29-b0b8-0c6bc33db7c9"
      },
      "source": [
        "model.evaluate(test_ds)"
      ],
      "execution_count": null,
      "outputs": [
        {
          "output_type": "stream",
          "text": [
            "1/1 [==============================] - 3s 3s/step - loss: 0.0561\n"
          ],
          "name": "stdout"
        },
        {
          "output_type": "execute_result",
          "data": {
            "text/plain": [
              "0.056101810187101364"
            ]
          },
          "metadata": {
            "tags": []
          },
          "execution_count": 52
        }
      ]
    },
    {
      "cell_type": "code",
      "metadata": {
        "id": "Bh4dnJzpR0r8"
      },
      "source": [
        "actuals, diffs = [], []\n",
        "\n",
        "for img, score in test_ds:\n",
        "  actual = score.numpy()\n",
        "  pred = model.predict(img).squeeze()\n",
        "  diff = actual - pred\n",
        "  \n",
        "  actuals.append(actual)\n",
        "  diffs.append(diff)\n"
      ],
      "execution_count": null,
      "outputs": []
    },
    {
      "cell_type": "code",
      "metadata": {
        "colab": {
          "base_uri": "https://localhost:8080/",
          "height": 282
        },
        "id": "tsn4FIFmX8vf",
        "outputId": "f797566c-62c6-470b-ca0e-6f843b587c6a"
      },
      "source": [
        "actuals = np.concatenate(actuals)\n",
        "diffs = np.concatenate(diffs)\n",
        "\n",
        "plt.scatter(actuals, np.abs(diffs))"
      ],
      "execution_count": null,
      "outputs": [
        {
          "output_type": "execute_result",
          "data": {
            "text/plain": [
              "<matplotlib.collections.PathCollection at 0x7f73b8cf6610>"
            ]
          },
          "metadata": {
            "tags": []
          },
          "execution_count": 54
        },
        {
          "output_type": "display_data",
          "data": {
            "image/png": "[encoded data removed]",
            "text/plain": [
              "<Figure size 432x288 with 1 Axes>"
            ]
          },
          "metadata": {
            "tags": [],
            "needs_background": "light"
          }
        }
      ]
    }
  ]
}